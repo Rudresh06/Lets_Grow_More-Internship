{
  "nbformat": 4,
  "nbformat_minor": 0,
  "metadata": {
    "colab": {
      "provenance": []
    },
    "kernelspec": {
      "name": "python3",
      "display_name": "Python 3"
    },
    "language_info": {
      "name": "python"
    }
  },
  "cells": [
    {
      "cell_type": "markdown",
      "source": [
        "**Stock Market Prediction And Forecasting Using Stacked LSTM **"
      ],
      "metadata": {
        "id": "91pisQNn7Keo"
      }
    },
    {
      "cell_type": "code",
      "source": [
        "#Import necessary Libraries\n",
        "import pandas as pd\n",
        "import numpy as np\n",
        "import math\n",
        "import matplotlib.pyplot as plt\n",
        "from sklearn.preprocessing import MinMaxScaler\n",
        "from sklearn.metrics import mean_squared_error\n",
        "import tensorflow as tf\n",
        "from tensorflow.python.keras.models import Sequential\n",
        "from tensorflow.python.keras.layers import Dense\n",
        "from tensorflow.python.keras.layers import LSTM\n",
        "%matplotlib inline"
      ],
      "metadata": {
        "id": "7jgQG1DT7qhM"
      },
      "execution_count": null,
      "outputs": []
    },
    {
      "cell_type": "code",
      "source": [
        "df = pd.read_csv('https://github.com/rudrajikadra/Stock-Market-Prediction-and-Forecasting-Using-Stacked-LSTM/raw/master/Reliance_Stock.csv')\n",
        "df = df.dropna()\n",
        "df.head()"
      ],
      "metadata": {
        "colab": {
          "base_uri": "https://localhost:8080/",
          "height": 206
        },
        "id": "FkHKrtrf7qkT",
        "outputId": "e1809ee3-0675-4369-bde8-8456f852407f"
      },
      "execution_count": null,
      "outputs": [
        {
          "output_type": "execute_result",
          "data": {
            "text/plain": [
              "         Date        Open        High         Low       Close   Adj Close  \\\n",
              "0  2015-06-08  453.399994  455.000000  441.549988  442.725006  425.550629   \n",
              "1  2015-06-09  441.774994  445.325012  438.674988  441.850006  424.709564   \n",
              "2  2015-06-10  443.000000  454.950012  442.500000  452.899994  435.330933   \n",
              "3  2015-06-11  453.000000  454.750000  436.825012  438.575012  421.561676   \n",
              "4  2015-06-12  439.500000  446.350006  439.125000  444.924988  427.665283   \n",
              "\n",
              "      Volume  \n",
              "0  4958862.0  \n",
              "1  4184606.0  \n",
              "2  6176034.0  \n",
              "3  6709574.0  \n",
              "4  9849112.0  "
            ],
            "text/html": [
              "\n",
              "  <div id=\"df-f0a15863-58a9-470b-a2f3-2a278266f625\">\n",
              "    <div class=\"colab-df-container\">\n",
              "      <div>\n",
              "<style scoped>\n",
              "    .dataframe tbody tr th:only-of-type {\n",
              "        vertical-align: middle;\n",
              "    }\n",
              "\n",
              "    .dataframe tbody tr th {\n",
              "        vertical-align: top;\n",
              "    }\n",
              "\n",
              "    .dataframe thead th {\n",
              "        text-align: right;\n",
              "    }\n",
              "</style>\n",
              "<table border=\"1\" class=\"dataframe\">\n",
              "  <thead>\n",
              "    <tr style=\"text-align: right;\">\n",
              "      <th></th>\n",
              "      <th>Date</th>\n",
              "      <th>Open</th>\n",
              "      <th>High</th>\n",
              "      <th>Low</th>\n",
              "      <th>Close</th>\n",
              "      <th>Adj Close</th>\n",
              "      <th>Volume</th>\n",
              "    </tr>\n",
              "  </thead>\n",
              "  <tbody>\n",
              "    <tr>\n",
              "      <th>0</th>\n",
              "      <td>2015-06-08</td>\n",
              "      <td>453.399994</td>\n",
              "      <td>455.000000</td>\n",
              "      <td>441.549988</td>\n",
              "      <td>442.725006</td>\n",
              "      <td>425.550629</td>\n",
              "      <td>4958862.0</td>\n",
              "    </tr>\n",
              "    <tr>\n",
              "      <th>1</th>\n",
              "      <td>2015-06-09</td>\n",
              "      <td>441.774994</td>\n",
              "      <td>445.325012</td>\n",
              "      <td>438.674988</td>\n",
              "      <td>441.850006</td>\n",
              "      <td>424.709564</td>\n",
              "      <td>4184606.0</td>\n",
              "    </tr>\n",
              "    <tr>\n",
              "      <th>2</th>\n",
              "      <td>2015-06-10</td>\n",
              "      <td>443.000000</td>\n",
              "      <td>454.950012</td>\n",
              "      <td>442.500000</td>\n",
              "      <td>452.899994</td>\n",
              "      <td>435.330933</td>\n",
              "      <td>6176034.0</td>\n",
              "    </tr>\n",
              "    <tr>\n",
              "      <th>3</th>\n",
              "      <td>2015-06-11</td>\n",
              "      <td>453.000000</td>\n",
              "      <td>454.750000</td>\n",
              "      <td>436.825012</td>\n",
              "      <td>438.575012</td>\n",
              "      <td>421.561676</td>\n",
              "      <td>6709574.0</td>\n",
              "    </tr>\n",
              "    <tr>\n",
              "      <th>4</th>\n",
              "      <td>2015-06-12</td>\n",
              "      <td>439.500000</td>\n",
              "      <td>446.350006</td>\n",
              "      <td>439.125000</td>\n",
              "      <td>444.924988</td>\n",
              "      <td>427.665283</td>\n",
              "      <td>9849112.0</td>\n",
              "    </tr>\n",
              "  </tbody>\n",
              "</table>\n",
              "</div>\n",
              "      <button class=\"colab-df-convert\" onclick=\"convertToInteractive('df-f0a15863-58a9-470b-a2f3-2a278266f625')\"\n",
              "              title=\"Convert this dataframe to an interactive table.\"\n",
              "              style=\"display:none;\">\n",
              "        \n",
              "  <svg xmlns=\"http://www.w3.org/2000/svg\" height=\"24px\"viewBox=\"0 0 24 24\"\n",
              "       width=\"24px\">\n",
              "    <path d=\"M0 0h24v24H0V0z\" fill=\"none\"/>\n",
              "    <path d=\"M18.56 5.44l.94 2.06.94-2.06 2.06-.94-2.06-.94-.94-2.06-.94 2.06-2.06.94zm-11 1L8.5 8.5l.94-2.06 2.06-.94-2.06-.94L8.5 2.5l-.94 2.06-2.06.94zm10 10l.94 2.06.94-2.06 2.06-.94-2.06-.94-.94-2.06-.94 2.06-2.06.94z\"/><path d=\"M17.41 7.96l-1.37-1.37c-.4-.4-.92-.59-1.43-.59-.52 0-1.04.2-1.43.59L10.3 9.45l-7.72 7.72c-.78.78-.78 2.05 0 2.83L4 21.41c.39.39.9.59 1.41.59.51 0 1.02-.2 1.41-.59l7.78-7.78 2.81-2.81c.8-.78.8-2.07 0-2.86zM5.41 20L4 18.59l7.72-7.72 1.47 1.35L5.41 20z\"/>\n",
              "  </svg>\n",
              "      </button>\n",
              "      \n",
              "  <style>\n",
              "    .colab-df-container {\n",
              "      display:flex;\n",
              "      flex-wrap:wrap;\n",
              "      gap: 12px;\n",
              "    }\n",
              "\n",
              "    .colab-df-convert {\n",
              "      background-color: #E8F0FE;\n",
              "      border: none;\n",
              "      border-radius: 50%;\n",
              "      cursor: pointer;\n",
              "      display: none;\n",
              "      fill: #1967D2;\n",
              "      height: 32px;\n",
              "      padding: 0 0 0 0;\n",
              "      width: 32px;\n",
              "    }\n",
              "\n",
              "    .colab-df-convert:hover {\n",
              "      background-color: #E2EBFA;\n",
              "      box-shadow: 0px 1px 2px rgba(60, 64, 67, 0.3), 0px 1px 3px 1px rgba(60, 64, 67, 0.15);\n",
              "      fill: #174EA6;\n",
              "    }\n",
              "\n",
              "    [theme=dark] .colab-df-convert {\n",
              "      background-color: #3B4455;\n",
              "      fill: #D2E3FC;\n",
              "    }\n",
              "\n",
              "    [theme=dark] .colab-df-convert:hover {\n",
              "      background-color: #434B5C;\n",
              "      box-shadow: 0px 1px 3px 1px rgba(0, 0, 0, 0.15);\n",
              "      filter: drop-shadow(0px 1px 2px rgba(0, 0, 0, 0.3));\n",
              "      fill: #FFFFFF;\n",
              "    }\n",
              "  </style>\n",
              "\n",
              "      <script>\n",
              "        const buttonEl =\n",
              "          document.querySelector('#df-f0a15863-58a9-470b-a2f3-2a278266f625 button.colab-df-convert');\n",
              "        buttonEl.style.display =\n",
              "          google.colab.kernel.accessAllowed ? 'block' : 'none';\n",
              "\n",
              "        async function convertToInteractive(key) {\n",
              "          const element = document.querySelector('#df-f0a15863-58a9-470b-a2f3-2a278266f625');\n",
              "          const dataTable =\n",
              "            await google.colab.kernel.invokeFunction('convertToInteractive',\n",
              "                                                     [key], {});\n",
              "          if (!dataTable) return;\n",
              "\n",
              "          const docLinkHtml = 'Like what you see? Visit the ' +\n",
              "            '<a target=\"_blank\" href=https://colab.research.google.com/notebooks/data_table.ipynb>data table notebook</a>'\n",
              "            + ' to learn more about interactive tables.';\n",
              "          element.innerHTML = '';\n",
              "          dataTable['output_type'] = 'display_data';\n",
              "          await google.colab.output.renderOutput(dataTable, element);\n",
              "          const docLink = document.createElement('div');\n",
              "          docLink.innerHTML = docLinkHtml;\n",
              "          element.appendChild(docLink);\n",
              "        }\n",
              "      </script>\n",
              "    </div>\n",
              "  </div>\n",
              "  "
            ]
          },
          "metadata": {},
          "execution_count": 47
        }
      ]
    },
    {
      "cell_type": "code",
      "source": [
        "df.tail()"
      ],
      "metadata": {
        "colab": {
          "base_uri": "https://localhost:8080/",
          "height": 206
        },
        "id": "W9_zLmSV7qne",
        "outputId": "8d7006f1-edfa-4b9c-e41e-3ac7675a856b"
      },
      "execution_count": null,
      "outputs": [
        {
          "output_type": "execute_result",
          "data": {
            "text/plain": [
              "            Date    Open         High          Low        Close    Adj Close  \\\n",
              "1224  2020-06-01  1480.0  1538.349976  1475.949951  1520.349976  1520.349976   \n",
              "1225  2020-06-02  1526.0  1540.000000  1520.800049  1535.699951  1535.699951   \n",
              "1226  2020-06-03  1545.0  1560.000000  1533.349976  1541.650024  1541.650024   \n",
              "1227  2020-06-04  1544.0  1589.500000  1541.000000  1579.800049  1579.800049   \n",
              "1228  2020-06-05  1595.0  1618.000000  1573.699951  1581.699951  1581.699951   \n",
              "\n",
              "          Volume  \n",
              "1224  18434012.0  \n",
              "1225  10224049.0  \n",
              "1226  11713461.0  \n",
              "1227  15784379.0  \n",
              "1228  15246965.0  "
            ],
            "text/html": [
              "\n",
              "  <div id=\"df-e046326a-9300-461e-90b8-f9ef6424fff2\">\n",
              "    <div class=\"colab-df-container\">\n",
              "      <div>\n",
              "<style scoped>\n",
              "    .dataframe tbody tr th:only-of-type {\n",
              "        vertical-align: middle;\n",
              "    }\n",
              "\n",
              "    .dataframe tbody tr th {\n",
              "        vertical-align: top;\n",
              "    }\n",
              "\n",
              "    .dataframe thead th {\n",
              "        text-align: right;\n",
              "    }\n",
              "</style>\n",
              "<table border=\"1\" class=\"dataframe\">\n",
              "  <thead>\n",
              "    <tr style=\"text-align: right;\">\n",
              "      <th></th>\n",
              "      <th>Date</th>\n",
              "      <th>Open</th>\n",
              "      <th>High</th>\n",
              "      <th>Low</th>\n",
              "      <th>Close</th>\n",
              "      <th>Adj Close</th>\n",
              "      <th>Volume</th>\n",
              "    </tr>\n",
              "  </thead>\n",
              "  <tbody>\n",
              "    <tr>\n",
              "      <th>1224</th>\n",
              "      <td>2020-06-01</td>\n",
              "      <td>1480.0</td>\n",
              "      <td>1538.349976</td>\n",
              "      <td>1475.949951</td>\n",
              "      <td>1520.349976</td>\n",
              "      <td>1520.349976</td>\n",
              "      <td>18434012.0</td>\n",
              "    </tr>\n",
              "    <tr>\n",
              "      <th>1225</th>\n",
              "      <td>2020-06-02</td>\n",
              "      <td>1526.0</td>\n",
              "      <td>1540.000000</td>\n",
              "      <td>1520.800049</td>\n",
              "      <td>1535.699951</td>\n",
              "      <td>1535.699951</td>\n",
              "      <td>10224049.0</td>\n",
              "    </tr>\n",
              "    <tr>\n",
              "      <th>1226</th>\n",
              "      <td>2020-06-03</td>\n",
              "      <td>1545.0</td>\n",
              "      <td>1560.000000</td>\n",
              "      <td>1533.349976</td>\n",
              "      <td>1541.650024</td>\n",
              "      <td>1541.650024</td>\n",
              "      <td>11713461.0</td>\n",
              "    </tr>\n",
              "    <tr>\n",
              "      <th>1227</th>\n",
              "      <td>2020-06-04</td>\n",
              "      <td>1544.0</td>\n",
              "      <td>1589.500000</td>\n",
              "      <td>1541.000000</td>\n",
              "      <td>1579.800049</td>\n",
              "      <td>1579.800049</td>\n",
              "      <td>15784379.0</td>\n",
              "    </tr>\n",
              "    <tr>\n",
              "      <th>1228</th>\n",
              "      <td>2020-06-05</td>\n",
              "      <td>1595.0</td>\n",
              "      <td>1618.000000</td>\n",
              "      <td>1573.699951</td>\n",
              "      <td>1581.699951</td>\n",
              "      <td>1581.699951</td>\n",
              "      <td>15246965.0</td>\n",
              "    </tr>\n",
              "  </tbody>\n",
              "</table>\n",
              "</div>\n",
              "      <button class=\"colab-df-convert\" onclick=\"convertToInteractive('df-e046326a-9300-461e-90b8-f9ef6424fff2')\"\n",
              "              title=\"Convert this dataframe to an interactive table.\"\n",
              "              style=\"display:none;\">\n",
              "        \n",
              "  <svg xmlns=\"http://www.w3.org/2000/svg\" height=\"24px\"viewBox=\"0 0 24 24\"\n",
              "       width=\"24px\">\n",
              "    <path d=\"M0 0h24v24H0V0z\" fill=\"none\"/>\n",
              "    <path d=\"M18.56 5.44l.94 2.06.94-2.06 2.06-.94-2.06-.94-.94-2.06-.94 2.06-2.06.94zm-11 1L8.5 8.5l.94-2.06 2.06-.94-2.06-.94L8.5 2.5l-.94 2.06-2.06.94zm10 10l.94 2.06.94-2.06 2.06-.94-2.06-.94-.94-2.06-.94 2.06-2.06.94z\"/><path d=\"M17.41 7.96l-1.37-1.37c-.4-.4-.92-.59-1.43-.59-.52 0-1.04.2-1.43.59L10.3 9.45l-7.72 7.72c-.78.78-.78 2.05 0 2.83L4 21.41c.39.39.9.59 1.41.59.51 0 1.02-.2 1.41-.59l7.78-7.78 2.81-2.81c.8-.78.8-2.07 0-2.86zM5.41 20L4 18.59l7.72-7.72 1.47 1.35L5.41 20z\"/>\n",
              "  </svg>\n",
              "      </button>\n",
              "      \n",
              "  <style>\n",
              "    .colab-df-container {\n",
              "      display:flex;\n",
              "      flex-wrap:wrap;\n",
              "      gap: 12px;\n",
              "    }\n",
              "\n",
              "    .colab-df-convert {\n",
              "      background-color: #E8F0FE;\n",
              "      border: none;\n",
              "      border-radius: 50%;\n",
              "      cursor: pointer;\n",
              "      display: none;\n",
              "      fill: #1967D2;\n",
              "      height: 32px;\n",
              "      padding: 0 0 0 0;\n",
              "      width: 32px;\n",
              "    }\n",
              "\n",
              "    .colab-df-convert:hover {\n",
              "      background-color: #E2EBFA;\n",
              "      box-shadow: 0px 1px 2px rgba(60, 64, 67, 0.3), 0px 1px 3px 1px rgba(60, 64, 67, 0.15);\n",
              "      fill: #174EA6;\n",
              "    }\n",
              "\n",
              "    [theme=dark] .colab-df-convert {\n",
              "      background-color: #3B4455;\n",
              "      fill: #D2E3FC;\n",
              "    }\n",
              "\n",
              "    [theme=dark] .colab-df-convert:hover {\n",
              "      background-color: #434B5C;\n",
              "      box-shadow: 0px 1px 3px 1px rgba(0, 0, 0, 0.15);\n",
              "      filter: drop-shadow(0px 1px 2px rgba(0, 0, 0, 0.3));\n",
              "      fill: #FFFFFF;\n",
              "    }\n",
              "  </style>\n",
              "\n",
              "      <script>\n",
              "        const buttonEl =\n",
              "          document.querySelector('#df-e046326a-9300-461e-90b8-f9ef6424fff2 button.colab-df-convert');\n",
              "        buttonEl.style.display =\n",
              "          google.colab.kernel.accessAllowed ? 'block' : 'none';\n",
              "\n",
              "        async function convertToInteractive(key) {\n",
              "          const element = document.querySelector('#df-e046326a-9300-461e-90b8-f9ef6424fff2');\n",
              "          const dataTable =\n",
              "            await google.colab.kernel.invokeFunction('convertToInteractive',\n",
              "                                                     [key], {});\n",
              "          if (!dataTable) return;\n",
              "\n",
              "          const docLinkHtml = 'Like what you see? Visit the ' +\n",
              "            '<a target=\"_blank\" href=https://colab.research.google.com/notebooks/data_table.ipynb>data table notebook</a>'\n",
              "            + ' to learn more about interactive tables.';\n",
              "          element.innerHTML = '';\n",
              "          dataTable['output_type'] = 'display_data';\n",
              "          await google.colab.output.renderOutput(dataTable, element);\n",
              "          const docLink = document.createElement('div');\n",
              "          docLink.innerHTML = docLinkHtml;\n",
              "          element.appendChild(docLink);\n",
              "        }\n",
              "      </script>\n",
              "    </div>\n",
              "  </div>\n",
              "  "
            ]
          },
          "metadata": {},
          "execution_count": 48
        }
      ]
    },
    {
      "cell_type": "code",
      "source": [
        "df_close = df['Close']\n"
      ],
      "metadata": {
        "id": "2RLmjTL77qq4"
      },
      "execution_count": null,
      "outputs": []
    },
    {
      "cell_type": "code",
      "source": [
        "df_close.shape\n"
      ],
      "metadata": {
        "colab": {
          "base_uri": "https://localhost:8080/"
        },
        "id": "Xqi9PgIf7quK",
        "outputId": "fafc19aa-3f45-46d6-8e77-5c654c6a25f9"
      },
      "execution_count": null,
      "outputs": [
        {
          "output_type": "execute_result",
          "data": {
            "text/plain": [
              "(1228,)"
            ]
          },
          "metadata": {},
          "execution_count": 50
        }
      ]
    },
    {
      "cell_type": "code",
      "source": [
        "plt.plot(df_close)\n"
      ],
      "metadata": {
        "colab": {
          "base_uri": "https://localhost:8080/",
          "height": 282
        },
        "id": "R_7zst_H7qxp",
        "outputId": "23196906-7ae8-45a4-baaf-b5de6a97c646"
      },
      "execution_count": null,
      "outputs": [
        {
          "output_type": "execute_result",
          "data": {
            "text/plain": [
              "[<matplotlib.lines.Line2D at 0x7fd214c6f550>]"
            ]
          },
          "metadata": {},
          "execution_count": 51
        },
        {
          "output_type": "display_data",
          "data": {
            "text/plain": [
              "<Figure size 432x288 with 1 Axes>"
            ],
            "image/png": "[encoded data removed]"
          },
          "metadata": {
            "needs_background": "light"
          }
        }
      ]
    },
    {
      "cell_type": "code",
      "source": [
        "scaler = MinMaxScaler(feature_range = (0,1))\n",
        "df_close = scaler.fit_transform(np.array(df_close).reshape(-1,1))\n"
      ],
      "metadata": {
        "id": "iFsQSMJn_cT6"
      },
      "execution_count": null,
      "outputs": []
    },
    {
      "cell_type": "code",
      "source": [
        "df_close.shape"
      ],
      "metadata": {
        "colab": {
          "base_uri": "https://localhost:8080/"
        },
        "id": "UXKoC8_m_cXu",
        "outputId": "66cbd2f8-2484-4210-b3e2-d58097d2a2b9"
      },
      "execution_count": null,
      "outputs": [
        {
          "output_type": "execute_result",
          "data": {
            "text/plain": [
              "(1228, 1)"
            ]
          },
          "metadata": {},
          "execution_count": 53
        }
      ]
    },
    {
      "cell_type": "code",
      "source": [
        "df_close"
      ],
      "metadata": {
        "colab": {
          "base_uri": "https://localhost:8080/"
        },
        "id": "3wBDF1WK_cax",
        "outputId": "10ee903e-c0fd-4d12-91bd-eb2340e26350"
      },
      "execution_count": null,
      "outputs": [
        {
          "output_type": "execute_result",
          "data": {
            "text/plain": [
              "array([[0.02338571],\n",
              "       [0.0226536 ],\n",
              "       [0.0318991 ],\n",
              "       ...,\n",
              "       [0.94285362],\n",
              "       [0.97477365],\n",
              "       [0.97636329]])"
            ]
          },
          "metadata": {},
          "execution_count": 54
        }
      ]
    },
    {
      "cell_type": "code",
      "source": [
        " training_size = int(len(df_close) * 0.75)\n",
        "test_size = len(df_close) - training_size\n",
        "train_data, test_data = df_close[0:training_size,:], df_close[training_size:len(df_close),:1]"
      ],
      "metadata": {
        "id": "lTNi1vnr_ce-"
      },
      "execution_count": null,
      "outputs": []
    },
    {
      "cell_type": "code",
      "source": [
        "def create_dataset(dataset, time_step = 1):\n",
        "    dataX, dataY = [], []\n",
        "    for i in range(len(dataset) - time_step - 1):\n",
        "        a = dataset[i:(i+time_step), 0]\n",
        "        dataX.append(a)\n",
        "        dataY.append(dataset[i+time_step, 0])\n",
        "    return np.array(dataX), np.array(dataY)"
      ],
      "metadata": {
        "id": "st2eNbrKFtJA"
      },
      "execution_count": null,
      "outputs": []
    },
    {
      "cell_type": "code",
      "source": [
        "time_step = 100\n",
        "x_train, y_train = create_dataset(train_data, time_step)\n",
        "x_test, y_test = create_dataset(test_data, time_step)"
      ],
      "metadata": {
        "id": "5nmEJkYTFtMW"
      },
      "execution_count": null,
      "outputs": []
    },
    {
      "cell_type": "code",
      "source": [
        "x_train = x_train.reshape(x_train.shape[0], x_train.shape[1], 1)\n",
        "x_test = x_test.reshape(x_test.shape[0], x_test.shape[1], 1)"
      ],
      "metadata": {
        "id": "ngAKFO1hFtQA"
      },
      "execution_count": null,
      "outputs": []
    },
    {
      "cell_type": "code",
      "source": [
        "#Create the LSTM Model\n",
        "model = Sequential()\n",
        "model.add(LSTM(50, return_sequences = True, input_shape = (100,1)))\n",
        "model.add(LSTM(50, return_sequences = True))\n",
        "model.add(LSTM(50))\n",
        "model.add(Dense(1))\n",
        "model.compile(loss = 'mean_squared_error', optimizer = 'adam')"
      ],
      "metadata": {
        "id": "DusR8bGNFtTH"
      },
      "execution_count": null,
      "outputs": []
    },
    {
      "cell_type": "code",
      "source": [
        "model.summary()"
      ],
      "metadata": {
        "colab": {
          "base_uri": "https://localhost:8080/"
        },
        "id": "BJYeADWgFtW9",
        "outputId": "ada4e8c8-7e3d-47e9-b91a-ee6371ef37be"
      },
      "execution_count": null,
      "outputs": [
        {
          "output_type": "stream",
          "name": "stdout",
          "text": [
            "Model: \"sequential_2\"\n",
            "_________________________________________________________________\n",
            "Layer (type)                 Output Shape              Param #   \n",
            "=================================================================\n",
            "lstm_6 (LSTM)                (None, 100, 50)           10400     \n",
            "_________________________________________________________________\n",
            "lstm_7 (LSTM)                (None, 100, 50)           20200     \n",
            "_________________________________________________________________\n",
            "lstm_8 (LSTM)                (None, 50)                20200     \n",
            "_________________________________________________________________\n",
            "dense_2 (Dense)              (None, 1)                 51        \n",
            "=================================================================\n",
            "Total params: 50,851\n",
            "Trainable params: 50,851\n",
            "Non-trainable params: 0\n",
            "_________________________________________________________________\n"
          ]
        }
      ]
    },
    {
      "cell_type": "code",
      "source": [
        "model.fit(x_train, y_train, validation_data = (x_test, y_test), epochs = 100, batch_size = 64, verbose = 1)"
      ],
      "metadata": {
        "colab": {
          "base_uri": "https://localhost:8080/"
        },
        "id": "xIjkwv_UFtbQ",
        "outputId": "ce57065f-59e1-4879-bbfd-9e307563e367"
      },
      "execution_count": null,
      "outputs": [
        {
          "output_type": "stream",
          "name": "stdout",
          "text": [
            "Epoch 1/100\n",
            "13/13 [==============================] - 16s 555ms/step - loss: 0.0402 - val_loss: 0.0619\n",
            "Epoch 2/100\n",
            "13/13 [==============================] - 6s 432ms/step - loss: 0.0089 - val_loss: 0.0120\n",
            "Epoch 3/100\n",
            "13/13 [==============================] - 6s 479ms/step - loss: 0.0023 - val_loss: 0.0150\n",
            "Epoch 4/100\n",
            "13/13 [==============================] - 5s 418ms/step - loss: 0.0014 - val_loss: 0.0089\n",
            "Epoch 5/100\n",
            "13/13 [==============================] - 7s 533ms/step - loss: 9.9427e-04 - val_loss: 0.0086\n",
            "Epoch 6/100\n",
            "13/13 [==============================] - 5s 416ms/step - loss: 9.4181e-04 - val_loss: 0.0086\n",
            "Epoch 7/100\n",
            "13/13 [==============================] - 7s 529ms/step - loss: 9.0874e-04 - val_loss: 0.0083\n",
            "Epoch 8/100\n",
            "13/13 [==============================] - 5s 415ms/step - loss: 9.3794e-04 - val_loss: 0.0082\n",
            "Epoch 9/100\n",
            "13/13 [==============================] - 7s 528ms/step - loss: 9.0512e-04 - val_loss: 0.0080\n",
            "Epoch 10/100\n",
            "13/13 [==============================] - 5s 420ms/step - loss: 8.9168e-04 - val_loss: 0.0079\n",
            "Epoch 11/100\n",
            "13/13 [==============================] - 7s 535ms/step - loss: 8.9787e-04 - val_loss: 0.0078\n",
            "Epoch 12/100\n",
            "13/13 [==============================] - 5s 422ms/step - loss: 9.0147e-04 - val_loss: 0.0078\n",
            "Epoch 13/100\n",
            "13/13 [==============================] - 7s 532ms/step - loss: 8.4724e-04 - val_loss: 0.0079\n",
            "Epoch 14/100\n",
            "13/13 [==============================] - 5s 425ms/step - loss: 8.3659e-04 - val_loss: 0.0074\n",
            "Epoch 15/100\n",
            "13/13 [==============================] - 7s 529ms/step - loss: 8.9167e-04 - val_loss: 0.0072\n",
            "Epoch 16/100\n",
            "13/13 [==============================] - 6s 424ms/step - loss: 8.3714e-04 - val_loss: 0.0071\n",
            "Epoch 17/100\n",
            "13/13 [==============================] - 6s 474ms/step - loss: 8.7311e-04 - val_loss: 0.0083\n",
            "Epoch 18/100\n",
            "13/13 [==============================] - 6s 439ms/step - loss: 8.2889e-04 - val_loss: 0.0076\n",
            "Epoch 19/100\n",
            "13/13 [==============================] - 5s 419ms/step - loss: 7.8459e-04 - val_loss: 0.0078\n",
            "Epoch 20/100\n",
            "13/13 [==============================] - 7s 495ms/step - loss: 7.9442e-04 - val_loss: 0.0065\n",
            "Epoch 21/100\n",
            "13/13 [==============================] - 5s 419ms/step - loss: 9.5755e-04 - val_loss: 0.0064\n",
            "Epoch 22/100\n",
            "13/13 [==============================] - 7s 524ms/step - loss: 7.8422e-04 - val_loss: 0.0067\n",
            "Epoch 23/100\n",
            "13/13 [==============================] - 5s 410ms/step - loss: 7.9268e-04 - val_loss: 0.0069\n",
            "Epoch 24/100\n",
            "13/13 [==============================] - 7s 526ms/step - loss: 7.3895e-04 - val_loss: 0.0065\n",
            "Epoch 25/100\n",
            "13/13 [==============================] - 5s 412ms/step - loss: 7.6925e-04 - val_loss: 0.0074\n",
            "Epoch 26/100\n",
            "13/13 [==============================] - 7s 527ms/step - loss: 7.1891e-04 - val_loss: 0.0072\n",
            "Epoch 27/100\n",
            "13/13 [==============================] - 5s 409ms/step - loss: 7.2041e-04 - val_loss: 0.0058\n",
            "Epoch 28/100\n",
            "13/13 [==============================] - 7s 521ms/step - loss: 6.8785e-04 - val_loss: 0.0061\n",
            "Epoch 29/100\n",
            "13/13 [==============================] - 5s 414ms/step - loss: 6.8078e-04 - val_loss: 0.0062\n",
            "Epoch 30/100\n",
            "13/13 [==============================] - 6s 494ms/step - loss: 6.7533e-04 - val_loss: 0.0065\n",
            "Epoch 31/100\n",
            "13/13 [==============================] - 6s 413ms/step - loss: 6.6061e-04 - val_loss: 0.0054\n",
            "Epoch 32/100\n",
            "13/13 [==============================] - 6s 429ms/step - loss: 6.5138e-04 - val_loss: 0.0051\n",
            "Epoch 33/100\n",
            "13/13 [==============================] - 6s 474ms/step - loss: 6.8362e-04 - val_loss: 0.0048\n",
            "Epoch 34/100\n",
            "13/13 [==============================] - 5s 413ms/step - loss: 6.3447e-04 - val_loss: 0.0056\n",
            "Epoch 35/100\n",
            "13/13 [==============================] - 7s 524ms/step - loss: 6.1704e-04 - val_loss: 0.0047\n",
            "Epoch 36/100\n",
            "13/13 [==============================] - 5s 413ms/step - loss: 6.2622e-04 - val_loss: 0.0049\n",
            "Epoch 37/100\n",
            "13/13 [==============================] - 7s 528ms/step - loss: 6.0313e-04 - val_loss: 0.0059\n",
            "Epoch 38/100\n",
            "13/13 [==============================] - 5s 417ms/step - loss: 5.9790e-04 - val_loss: 0.0067\n",
            "Epoch 39/100\n",
            "13/13 [==============================] - 7s 529ms/step - loss: 6.0600e-04 - val_loss: 0.0059\n",
            "Epoch 40/100\n",
            "13/13 [==============================] - 5s 415ms/step - loss: 6.1644e-04 - val_loss: 0.0045\n",
            "Epoch 41/100\n",
            "13/13 [==============================] - 7s 531ms/step - loss: 5.9686e-04 - val_loss: 0.0040\n",
            "Epoch 42/100\n",
            "13/13 [==============================] - 5s 420ms/step - loss: 6.0202e-04 - val_loss: 0.0048\n",
            "Epoch 43/100\n",
            "13/13 [==============================] - 7s 526ms/step - loss: 6.6047e-04 - val_loss: 0.0072\n",
            "Epoch 44/100\n",
            "13/13 [==============================] - 5s 419ms/step - loss: 7.7431e-04 - val_loss: 0.0050\n",
            "Epoch 45/100\n",
            "13/13 [==============================] - 6s 483ms/step - loss: 5.9005e-04 - val_loss: 0.0045\n",
            "Epoch 46/100\n",
            "13/13 [==============================] - 6s 430ms/step - loss: 6.4644e-04 - val_loss: 0.0062\n",
            "Epoch 47/100\n",
            "13/13 [==============================] - 6s 431ms/step - loss: 5.8740e-04 - val_loss: 0.0038\n",
            "Epoch 48/100\n",
            "13/13 [==============================] - 7s 483ms/step - loss: 6.0998e-04 - val_loss: 0.0053\n",
            "Epoch 49/100\n",
            "13/13 [==============================] - 5s 417ms/step - loss: 5.7805e-04 - val_loss: 0.0042\n",
            "Epoch 50/100\n",
            "13/13 [==============================] - 7s 528ms/step - loss: 5.9642e-04 - val_loss: 0.0046\n",
            "Epoch 51/100\n",
            "13/13 [==============================] - 5s 416ms/step - loss: 5.4457e-04 - val_loss: 0.0054\n",
            "Epoch 52/100\n",
            "13/13 [==============================] - 7s 529ms/step - loss: 5.3466e-04 - val_loss: 0.0047\n",
            "Epoch 53/100\n",
            "13/13 [==============================] - 5s 414ms/step - loss: 5.4452e-04 - val_loss: 0.0055\n",
            "Epoch 54/100\n",
            "13/13 [==============================] - 7s 529ms/step - loss: 5.3724e-04 - val_loss: 0.0033\n",
            "Epoch 55/100\n",
            "13/13 [==============================] - 5s 417ms/step - loss: 6.3397e-04 - val_loss: 0.0071\n",
            "Epoch 56/100\n",
            "13/13 [==============================] - 7s 535ms/step - loss: 5.8398e-04 - val_loss: 0.0061\n",
            "Epoch 57/100\n",
            "13/13 [==============================] - 5s 414ms/step - loss: 5.0504e-04 - val_loss: 0.0039\n",
            "Epoch 58/100\n",
            "13/13 [==============================] - 7s 528ms/step - loss: 5.1941e-04 - val_loss: 0.0032\n",
            "Epoch 59/100\n",
            "13/13 [==============================] - 5s 417ms/step - loss: 5.2693e-04 - val_loss: 0.0037\n",
            "Epoch 60/100\n",
            "13/13 [==============================] - 6s 485ms/step - loss: 5.3761e-04 - val_loss: 0.0035\n",
            "Epoch 61/100\n",
            "13/13 [==============================] - 6s 432ms/step - loss: 4.9226e-04 - val_loss: 0.0031\n",
            "Epoch 62/100\n",
            "13/13 [==============================] - 7s 531ms/step - loss: 5.1890e-04 - val_loss: 0.0077\n",
            "Epoch 63/100\n",
            "13/13 [==============================] - 7s 498ms/step - loss: 6.3097e-04 - val_loss: 0.0027\n",
            "Epoch 64/100\n",
            "13/13 [==============================] - 5s 420ms/step - loss: 5.7377e-04 - val_loss: 0.0039\n",
            "Epoch 65/100\n",
            "13/13 [==============================] - 7s 526ms/step - loss: 5.7063e-04 - val_loss: 0.0056\n",
            "Epoch 66/100\n",
            "13/13 [==============================] - 6s 425ms/step - loss: 5.9162e-04 - val_loss: 0.0030\n",
            "Epoch 67/100\n",
            "13/13 [==============================] - 7s 528ms/step - loss: 6.2585e-04 - val_loss: 0.0050\n",
            "Epoch 68/100\n",
            "13/13 [==============================] - 5s 420ms/step - loss: 4.9866e-04 - val_loss: 0.0044\n",
            "Epoch 69/100\n",
            "13/13 [==============================] - 7s 533ms/step - loss: 4.8081e-04 - val_loss: 0.0042\n",
            "Epoch 70/100\n",
            "13/13 [==============================] - 5s 415ms/step - loss: 4.8400e-04 - val_loss: 0.0036\n",
            "Epoch 71/100\n",
            "13/13 [==============================] - 7s 529ms/step - loss: 4.6465e-04 - val_loss: 0.0035\n",
            "Epoch 72/100\n",
            "13/13 [==============================] - 5s 418ms/step - loss: 4.5780e-04 - val_loss: 0.0038\n",
            "Epoch 73/100\n",
            "13/13 [==============================] - 7s 531ms/step - loss: 4.7018e-04 - val_loss: 0.0040\n",
            "Epoch 74/100\n",
            "13/13 [==============================] - 5s 415ms/step - loss: 4.7845e-04 - val_loss: 0.0064\n",
            "Epoch 75/100\n",
            "13/13 [==============================] - 6s 470ms/step - loss: 4.8854e-04 - val_loss: 0.0033\n",
            "Epoch 76/100\n",
            "13/13 [==============================] - 6s 445ms/step - loss: 4.5244e-04 - val_loss: 0.0052\n",
            "Epoch 77/100\n",
            "13/13 [==============================] - 6s 450ms/step - loss: 4.4186e-04 - val_loss: 0.0039\n",
            "Epoch 78/100\n",
            "13/13 [==============================] - 7s 500ms/step - loss: 4.4341e-04 - val_loss: 0.0046\n",
            "Epoch 79/100\n",
            "13/13 [==============================] - 5s 419ms/step - loss: 4.6752e-04 - val_loss: 0.0036\n",
            "Epoch 80/100\n",
            "13/13 [==============================] - 7s 527ms/step - loss: 4.5356e-04 - val_loss: 0.0063\n",
            "Epoch 81/100\n",
            "13/13 [==============================] - 5s 421ms/step - loss: 4.6370e-04 - val_loss: 0.0030\n",
            "Epoch 82/100\n",
            "13/13 [==============================] - 7s 526ms/step - loss: 4.8708e-04 - val_loss: 0.0037\n",
            "Epoch 83/100\n",
            "13/13 [==============================] - 5s 416ms/step - loss: 4.2179e-04 - val_loss: 0.0041\n",
            "Epoch 84/100\n",
            "13/13 [==============================] - 7s 526ms/step - loss: 4.4299e-04 - val_loss: 0.0043\n",
            "Epoch 85/100\n",
            "13/13 [==============================] - 5s 413ms/step - loss: 4.2533e-04 - val_loss: 0.0040\n",
            "Epoch 86/100\n",
            "13/13 [==============================] - 7s 529ms/step - loss: 4.0541e-04 - val_loss: 0.0039\n",
            "Epoch 87/100\n",
            "13/13 [==============================] - 5s 414ms/step - loss: 4.5640e-04 - val_loss: 0.0038\n",
            "Epoch 88/100\n",
            "13/13 [==============================] - 7s 522ms/step - loss: 4.5209e-04 - val_loss: 0.0059\n",
            "Epoch 89/100\n",
            "13/13 [==============================] - 5s 414ms/step - loss: 4.1667e-04 - val_loss: 0.0037\n",
            "Epoch 90/100\n",
            "13/13 [==============================] - 6s 465ms/step - loss: 3.9855e-04 - val_loss: 0.0058\n",
            "Epoch 91/100\n",
            "13/13 [==============================] - 6s 448ms/step - loss: 4.1806e-04 - val_loss: 0.0027\n",
            "Epoch 92/100\n",
            "13/13 [==============================] - 5s 417ms/step - loss: 4.7019e-04 - val_loss: 0.0051\n",
            "Epoch 93/100\n",
            "13/13 [==============================] - 7s 502ms/step - loss: 4.2095e-04 - val_loss: 0.0059\n",
            "Epoch 94/100\n",
            "13/13 [==============================] - 5s 420ms/step - loss: 4.0990e-04 - val_loss: 0.0034\n",
            "Epoch 95/100\n",
            "13/13 [==============================] - 7s 522ms/step - loss: 3.9549e-04 - val_loss: 0.0054\n",
            "Epoch 96/100\n",
            "13/13 [==============================] - 5s 419ms/step - loss: 4.3720e-04 - val_loss: 0.0032\n",
            "Epoch 97/100\n",
            "13/13 [==============================] - 7s 519ms/step - loss: 4.5218e-04 - val_loss: 0.0040\n",
            "Epoch 98/100\n",
            "13/13 [==============================] - 5s 413ms/step - loss: 3.9393e-04 - val_loss: 0.0044\n",
            "Epoch 99/100\n",
            "13/13 [==============================] - 7s 521ms/step - loss: 5.2548e-04 - val_loss: 0.0036\n",
            "Epoch 100/100\n",
            "13/13 [==============================] - 5s 411ms/step - loss: 4.9937e-04 - val_loss: 0.0051\n"
          ]
        },
        {
          "output_type": "execute_result",
          "data": {
            "text/plain": [
              "<tensorflow.python.keras.callbacks.History at 0x7fd214a85e20>"
            ]
          },
          "metadata": {},
          "execution_count": 61
        }
      ]
    },
    {
      "cell_type": "code",
      "source": [
        "train_predict = model.predict(x_train)\n",
        "test_predict = model.predict(x_test)"
      ],
      "metadata": {
        "id": "Fi3CWiahGBYZ"
      },
      "execution_count": null,
      "outputs": []
    },
    {
      "cell_type": "code",
      "source": [
        "train_predict = scaler.inverse_transform(train_predict)\n",
        "test_predict = scaler.inverse_transform(test_predict)"
      ],
      "metadata": {
        "id": "S1knZoZqGBb1"
      },
      "execution_count": null,
      "outputs": []
    },
    {
      "cell_type": "code",
      "source": [
        "math.sqrt(mean_squared_error(y_train, train_predict))"
      ],
      "metadata": {
        "id": "YLHDra_mGBmT",
        "colab": {
          "base_uri": "https://localhost:8080/"
        },
        "outputId": "6c88abc4-e86f-48f6-89c6-4ada6971d741"
      },
      "execution_count": null,
      "outputs": [
        {
          "output_type": "execute_result",
          "data": {
            "text/plain": [
              "801.1207746722392"
            ]
          },
          "metadata": {},
          "execution_count": 64
        }
      ]
    },
    {
      "cell_type": "code",
      "source": [
        "math.sqrt(mean_squared_error(y_test, test_predict))"
      ],
      "metadata": {
        "id": "FzrXgX4tGBrb",
        "colab": {
          "base_uri": "https://localhost:8080/"
        },
        "outputId": "efd41683-0b6c-436d-9648-353d56e09e2a"
      },
      "execution_count": null,
      "outputs": [
        {
          "output_type": "execute_result",
          "data": {
            "text/plain": [
              "1316.8715004782662"
            ]
          },
          "metadata": {},
          "execution_count": 65
        }
      ]
    },
    {
      "cell_type": "code",
      "source": [
        "#Plotting\n",
        "\n",
        "#Shift train prediction for plotting\n",
        "look_back = 100\n",
        "trainPredictPlot = np.empty_like(df_close)\n",
        "trainPredictPlot[:,:] = np.nan\n",
        "trainPredictPlot[look_back:len(train_predict) + look_back, :] = train_predict\n",
        "\n",
        "#Shift test prediction for plotting\n",
        "testPredictPlot = np.empty_like(df_close)\n",
        "testPredictPlot[:,:] = np.nan\n",
        "testPredictPlot[len(train_predict) + (look_back * 2)+1:len(df_close) - 1, :] = test_predict\n",
        "\n",
        "#Plot baseline and predictions\n",
        "plt.plot(scaler.inverse_transform(df_close))\n",
        "plt.plot(trainPredictPlot)\n",
        "plt.plot(testPredictPlot)\n",
        "plt.show()"
      ],
      "metadata": {
        "id": "ue6fBF3IGvus",
        "colab": {
          "base_uri": "https://localhost:8080/",
          "height": 265
        },
        "outputId": "8a8d5cac-862c-49a8-a508-af6d1e9f791e"
      },
      "execution_count": null,
      "outputs": [
        {
          "output_type": "display_data",
          "data": {
            "text/plain": [
              "<Figure size 432x288 with 1 Axes>"
            ],
            "image/png": "[encoded data removed]"
          },
          "metadata": {
            "needs_background": "light"
          }
        }
      ]
    },
    {
      "cell_type": "markdown",
      "source": [
        "Predict the next 30 days Stock Price\n"
      ],
      "metadata": {
        "id": "DXFAaFfYG2t0"
      }
    },
    {
      "cell_type": "code",
      "source": [
        "len(test_data), x_test.shape\n"
      ],
      "metadata": {
        "id": "3ApXELy6GvyG",
        "colab": {
          "base_uri": "https://localhost:8080/"
        },
        "outputId": "8341e72b-958e-44a7-b69f-18e928356ab5"
      },
      "execution_count": null,
      "outputs": [
        {
          "output_type": "execute_result",
          "data": {
            "text/plain": [
              "(307, (206, 100, 1))"
            ]
          },
          "metadata": {},
          "execution_count": 67
        }
      ]
    },
    {
      "cell_type": "code",
      "source": [
        "x_input = test_data[207:].reshape(1,-1)\n",
        "x_input.shape"
      ],
      "metadata": {
        "id": "7fAqyxZbGv1Z",
        "colab": {
          "base_uri": "https://localhost:8080/"
        },
        "outputId": "3ab30daf-86b8-416b-9077-908c90207e53"
      },
      "execution_count": null,
      "outputs": [
        {
          "output_type": "execute_result",
          "data": {
            "text/plain": [
              "(1, 100)"
            ]
          },
          "metadata": {},
          "execution_count": 68
        }
      ]
    },
    {
      "cell_type": "code",
      "source": [
        "temp_input = list(x_input)\n",
        "temp_input = temp_input[0].tolist()"
      ],
      "metadata": {
        "id": "_XFHa93WG9hL"
      },
      "execution_count": null,
      "outputs": []
    },
    {
      "cell_type": "code",
      "source": [
        "lst_output=[]\n",
        "n_steps=100\n",
        "nextNumberOfDays = 30\n",
        "i=0\n",
        "\n",
        "while(i<nextNumberOfDays):\n",
        "    \n",
        "    if(len(temp_input)>100):\n",
        "        x_input=np.array(temp_input[1:])\n",
        "        print(\"{} day input {}\".format(i,x_input))\n",
        "        x_input=x_input.reshape(1,-1)\n",
        "        x_input = x_input.reshape((1, n_steps, 1))\n",
        "        yhat = model.predict(x_input, verbose=0)\n",
        "        print(\"{} day output {}\".format(i,yhat))\n",
        "        temp_input.extend(yhat[0].tolist())\n",
        "        temp_input=temp_input[1:]\n",
        "        lst_output.extend(yhat.tolist())\n",
        "        i=i+1\n",
        "    else:\n",
        "        x_input = x_input.reshape((1, n_steps,1))\n",
        "        yhat = model.predict(x_input, verbose=0)\n",
        "        print(yhat[0])\n",
        "        temp_input.extend(yhat[0].tolist())\n",
        "        print(len(temp_input))\n",
        "        lst_output.extend(yhat.tolist())\n",
        "        i=i+1\n",
        "    \n",
        "\n",
        "print(lst_output)"
      ],
      "metadata": {
        "id": "kMgpFboNG9l-",
        "colab": {
          "base_uri": "https://localhost:8080/"
        },
        "outputId": "4873bcdd-087f-4d8b-c988-6e6b742cc578"
      },
      "execution_count": null,
      "outputs": [
        {
          "output_type": "stream",
          "name": "stdout",
          "text": [
            "[0.8719975]\n",
            "101\n",
            "1 day input [0.94816663 0.9478738  0.94456879 0.93260407 0.92796036 0.939716\n",
            " 0.97577765 0.93507229 0.93636921 0.93590899 0.93047045 0.92603602\n",
            " 0.91348555 0.88436843 0.89114567 0.8609409  0.83408293 0.81220327\n",
            " 0.84642422 0.86491522 0.87269654 0.85249028 0.8541218  0.86847118\n",
            " 0.88315526 0.88637653 0.89763007 0.88980697 0.88072882 0.91118463\n",
            " 0.8962495  0.8619449  0.83805724 0.8176418  0.81283079 0.76463703\n",
            " 0.75417831 0.7765181  0.77388248 0.74999482 0.71640139 0.5851654\n",
            " 0.6181313  0.5423683  0.57776065 0.50279251 0.49634993 0.46330038\n",
            " 0.42079615 0.50467508 0.39264125 0.44229929 0.55847473 0.54504569\n",
            " 0.54454369 0.51513375 0.5848307  0.55696863 0.55445854 0.6620997\n",
            " 0.65042781 0.67368794 0.64791772 0.61503546 0.63026342 0.67707661\n",
            " 0.69364326 0.6882465  0.79387957 0.7999875  0.83855924 0.84922714\n",
            " 0.84788844 0.84688434 0.86803608 0.84250843 0.86360165 0.86368529\n",
            " 0.90198096 0.9474387  0.95987202 0.87902192 0.90503482 0.85441462\n",
            " 0.87403524 0.85843081 0.83178201 0.85253205 0.85884916 0.85073323\n",
            " 0.844458   0.862447   0.88478678 0.87821873 0.92503192 0.9378752\n",
            " 0.94285362 0.97477365 0.97636329 0.87199748]\n",
            "1 day output [[0.865606]]\n",
            "2 day input [0.9478738  0.94456879 0.93260407 0.92796036 0.939716   0.97577765\n",
            " 0.93507229 0.93636921 0.93590899 0.93047045 0.92603602 0.91348555\n",
            " 0.88436843 0.89114567 0.8609409  0.83408293 0.81220327 0.84642422\n",
            " 0.86491522 0.87269654 0.85249028 0.8541218  0.86847118 0.88315526\n",
            " 0.88637653 0.89763007 0.88980697 0.88072882 0.91118463 0.8962495\n",
            " 0.8619449  0.83805724 0.8176418  0.81283079 0.76463703 0.75417831\n",
            " 0.7765181  0.77388248 0.74999482 0.71640139 0.5851654  0.6181313\n",
            " 0.5423683  0.57776065 0.50279251 0.49634993 0.46330038 0.42079615\n",
            " 0.50467508 0.39264125 0.44229929 0.55847473 0.54504569 0.54454369\n",
            " 0.51513375 0.5848307  0.55696863 0.55445854 0.6620997  0.65042781\n",
            " 0.67368794 0.64791772 0.61503546 0.63026342 0.67707661 0.69364326\n",
            " 0.6882465  0.79387957 0.7999875  0.83855924 0.84922714 0.84788844\n",
            " 0.84688434 0.86803608 0.84250843 0.86360165 0.86368529 0.90198096\n",
            " 0.9474387  0.95987202 0.87902192 0.90503482 0.85441462 0.87403524\n",
            " 0.85843081 0.83178201 0.85253205 0.85884916 0.85073323 0.844458\n",
            " 0.862447   0.88478678 0.87821873 0.92503192 0.9378752  0.94285362\n",
            " 0.97477365 0.97636329 0.87199748 0.86560601]\n",
            "2 day output [[0.8514708]]\n",
            "3 day input [0.94456879 0.93260407 0.92796036 0.939716   0.97577765 0.93507229\n",
            " 0.93636921 0.93590899 0.93047045 0.92603602 0.91348555 0.88436843\n",
            " 0.89114567 0.8609409  0.83408293 0.81220327 0.84642422 0.86491522\n",
            " 0.87269654 0.85249028 0.8541218  0.86847118 0.88315526 0.88637653\n",
            " 0.89763007 0.88980697 0.88072882 0.91118463 0.8962495  0.8619449\n",
            " 0.83805724 0.8176418  0.81283079 0.76463703 0.75417831 0.7765181\n",
            " 0.77388248 0.74999482 0.71640139 0.5851654  0.6181313  0.5423683\n",
            " 0.57776065 0.50279251 0.49634993 0.46330038 0.42079615 0.50467508\n",
            " 0.39264125 0.44229929 0.55847473 0.54504569 0.54454369 0.51513375\n",
            " 0.5848307  0.55696863 0.55445854 0.6620997  0.65042781 0.67368794\n",
            " 0.64791772 0.61503546 0.63026342 0.67707661 0.69364326 0.6882465\n",
            " 0.79387957 0.7999875  0.83855924 0.84922714 0.84788844 0.84688434\n",
            " 0.86803608 0.84250843 0.86360165 0.86368529 0.90198096 0.9474387\n",
            " 0.95987202 0.87902192 0.90503482 0.85441462 0.87403524 0.85843081\n",
            " 0.83178201 0.85253205 0.85884916 0.85073323 0.844458   0.862447\n",
            " 0.88478678 0.87821873 0.92503192 0.9378752  0.94285362 0.97477365\n",
            " 0.97636329 0.87199748 0.86560601 0.85147083]\n",
            "3 day output [[0.8337887]]\n",
            "4 day input [0.93260407 0.92796036 0.939716   0.97577765 0.93507229 0.93636921\n",
            " 0.93590899 0.93047045 0.92603602 0.91348555 0.88436843 0.89114567\n",
            " 0.8609409  0.83408293 0.81220327 0.84642422 0.86491522 0.87269654\n",
            " 0.85249028 0.8541218  0.86847118 0.88315526 0.88637653 0.89763007\n",
            " 0.88980697 0.88072882 0.91118463 0.8962495  0.8619449  0.83805724\n",
            " 0.8176418  0.81283079 0.76463703 0.75417831 0.7765181  0.77388248\n",
            " 0.74999482 0.71640139 0.5851654  0.6181313  0.5423683  0.57776065\n",
            " 0.50279251 0.49634993 0.46330038 0.42079615 0.50467508 0.39264125\n",
            " 0.44229929 0.55847473 0.54504569 0.54454369 0.51513375 0.5848307\n",
            " 0.55696863 0.55445854 0.6620997  0.65042781 0.67368794 0.64791772\n",
            " 0.61503546 0.63026342 0.67707661 0.69364326 0.6882465  0.79387957\n",
            " 0.7999875  0.83855924 0.84922714 0.84788844 0.84688434 0.86803608\n",
            " 0.84250843 0.86360165 0.86368529 0.90198096 0.9474387  0.95987202\n",
            " 0.87902192 0.90503482 0.85441462 0.87403524 0.85843081 0.83178201\n",
            " 0.85253205 0.85884916 0.85073323 0.844458   0.862447   0.88478678\n",
            " 0.87821873 0.92503192 0.9378752  0.94285362 0.97477365 0.97636329\n",
            " 0.87199748 0.86560601 0.85147083 0.83378869]\n",
            "4 day output [[0.81490034]]\n",
            "5 day input [0.92796036 0.939716   0.97577765 0.93507229 0.93636921 0.93590899\n",
            " 0.93047045 0.92603602 0.91348555 0.88436843 0.89114567 0.8609409\n",
            " 0.83408293 0.81220327 0.84642422 0.86491522 0.87269654 0.85249028\n",
            " 0.8541218  0.86847118 0.88315526 0.88637653 0.89763007 0.88980697\n",
            " 0.88072882 0.91118463 0.8962495  0.8619449  0.83805724 0.8176418\n",
            " 0.81283079 0.76463703 0.75417831 0.7765181  0.77388248 0.74999482\n",
            " 0.71640139 0.5851654  0.6181313  0.5423683  0.57776065 0.50279251\n",
            " 0.49634993 0.46330038 0.42079615 0.50467508 0.39264125 0.44229929\n",
            " 0.55847473 0.54504569 0.54454369 0.51513375 0.5848307  0.55696863\n",
            " 0.55445854 0.6620997  0.65042781 0.67368794 0.64791772 0.61503546\n",
            " 0.63026342 0.67707661 0.69364326 0.6882465  0.79387957 0.7999875\n",
            " 0.83855924 0.84922714 0.84788844 0.84688434 0.86803608 0.84250843\n",
            " 0.86360165 0.86368529 0.90198096 0.9474387  0.95987202 0.87902192\n",
            " 0.90503482 0.85441462 0.87403524 0.85843081 0.83178201 0.85253205\n",
            " 0.85884916 0.85073323 0.844458   0.862447   0.88478678 0.87821873\n",
            " 0.92503192 0.9378752  0.94285362 0.97477365 0.97636329 0.87199748\n",
            " 0.86560601 0.85147083 0.83378869 0.81490034]\n",
            "5 day output [[0.79605794]]\n",
            "6 day input [0.939716   0.97577765 0.93507229 0.93636921 0.93590899 0.93047045\n",
            " 0.92603602 0.91348555 0.88436843 0.89114567 0.8609409  0.83408293\n",
            " 0.81220327 0.84642422 0.86491522 0.87269654 0.85249028 0.8541218\n",
            " 0.86847118 0.88315526 0.88637653 0.89763007 0.88980697 0.88072882\n",
            " 0.91118463 0.8962495  0.8619449  0.83805724 0.8176418  0.81283079\n",
            " 0.76463703 0.75417831 0.7765181  0.77388248 0.74999482 0.71640139\n",
            " 0.5851654  0.6181313  0.5423683  0.57776065 0.50279251 0.49634993\n",
            " 0.46330038 0.42079615 0.50467508 0.39264125 0.44229929 0.55847473\n",
            " 0.54504569 0.54454369 0.51513375 0.5848307  0.55696863 0.55445854\n",
            " 0.6620997  0.65042781 0.67368794 0.64791772 0.61503546 0.63026342\n",
            " 0.67707661 0.69364326 0.6882465  0.79387957 0.7999875  0.83855924\n",
            " 0.84922714 0.84788844 0.84688434 0.86803608 0.84250843 0.86360165\n",
            " 0.86368529 0.90198096 0.9474387  0.95987202 0.87902192 0.90503482\n",
            " 0.85441462 0.87403524 0.85843081 0.83178201 0.85253205 0.85884916\n",
            " 0.85073323 0.844458   0.862447   0.88478678 0.87821873 0.92503192\n",
            " 0.9378752  0.94285362 0.97477365 0.97636329 0.87199748 0.86560601\n",
            " 0.85147083 0.83378869 0.81490034 0.79605794]\n",
            "6 day output [[0.7778889]]\n",
            "7 day input [0.97577765 0.93507229 0.93636921 0.93590899 0.93047045 0.92603602\n",
            " 0.91348555 0.88436843 0.89114567 0.8609409  0.83408293 0.81220327\n",
            " 0.84642422 0.86491522 0.87269654 0.85249028 0.8541218  0.86847118\n",
            " 0.88315526 0.88637653 0.89763007 0.88980697 0.88072882 0.91118463\n",
            " 0.8962495  0.8619449  0.83805724 0.8176418  0.81283079 0.76463703\n",
            " 0.75417831 0.7765181  0.77388248 0.74999482 0.71640139 0.5851654\n",
            " 0.6181313  0.5423683  0.57776065 0.50279251 0.49634993 0.46330038\n",
            " 0.42079615 0.50467508 0.39264125 0.44229929 0.55847473 0.54504569\n",
            " 0.54454369 0.51513375 0.5848307  0.55696863 0.55445854 0.6620997\n",
            " 0.65042781 0.67368794 0.64791772 0.61503546 0.63026342 0.67707661\n",
            " 0.69364326 0.6882465  0.79387957 0.7999875  0.83855924 0.84922714\n",
            " 0.84788844 0.84688434 0.86803608 0.84250843 0.86360165 0.86368529\n",
            " 0.90198096 0.9474387  0.95987202 0.87902192 0.90503482 0.85441462\n",
            " 0.87403524 0.85843081 0.83178201 0.85253205 0.85884916 0.85073323\n",
            " 0.844458   0.862447   0.88478678 0.87821873 0.92503192 0.9378752\n",
            " 0.94285362 0.97477365 0.97636329 0.87199748 0.86560601 0.85147083\n",
            " 0.83378869 0.81490034 0.79605794 0.77788889]\n",
            "7 day output [[0.76067483]]\n",
            "8 day input [0.93507229 0.93636921 0.93590899 0.93047045 0.92603602 0.91348555\n",
            " 0.88436843 0.89114567 0.8609409  0.83408293 0.81220327 0.84642422\n",
            " 0.86491522 0.87269654 0.85249028 0.8541218  0.86847118 0.88315526\n",
            " 0.88637653 0.89763007 0.88980697 0.88072882 0.91118463 0.8962495\n",
            " 0.8619449  0.83805724 0.8176418  0.81283079 0.76463703 0.75417831\n",
            " 0.7765181  0.77388248 0.74999482 0.71640139 0.5851654  0.6181313\n",
            " 0.5423683  0.57776065 0.50279251 0.49634993 0.46330038 0.42079615\n",
            " 0.50467508 0.39264125 0.44229929 0.55847473 0.54504569 0.54454369\n",
            " 0.51513375 0.5848307  0.55696863 0.55445854 0.6620997  0.65042781\n",
            " 0.67368794 0.64791772 0.61503546 0.63026342 0.67707661 0.69364326\n",
            " 0.6882465  0.79387957 0.7999875  0.83855924 0.84922714 0.84788844\n",
            " 0.84688434 0.86803608 0.84250843 0.86360165 0.86368529 0.90198096\n",
            " 0.9474387  0.95987202 0.87902192 0.90503482 0.85441462 0.87403524\n",
            " 0.85843081 0.83178201 0.85253205 0.85884916 0.85073323 0.844458\n",
            " 0.862447   0.88478678 0.87821873 0.92503192 0.9378752  0.94285362\n",
            " 0.97477365 0.97636329 0.87199748 0.86560601 0.85147083 0.83378869\n",
            " 0.81490034 0.79605794 0.77788889 0.76067483]\n",
            "8 day output [[0.7445077]]\n",
            "9 day input [0.93636921 0.93590899 0.93047045 0.92603602 0.91348555 0.88436843\n",
            " 0.89114567 0.8609409  0.83408293 0.81220327 0.84642422 0.86491522\n",
            " 0.87269654 0.85249028 0.8541218  0.86847118 0.88315526 0.88637653\n",
            " 0.89763007 0.88980697 0.88072882 0.91118463 0.8962495  0.8619449\n",
            " 0.83805724 0.8176418  0.81283079 0.76463703 0.75417831 0.7765181\n",
            " 0.77388248 0.74999482 0.71640139 0.5851654  0.6181313  0.5423683\n",
            " 0.57776065 0.50279251 0.49634993 0.46330038 0.42079615 0.50467508\n",
            " 0.39264125 0.44229929 0.55847473 0.54504569 0.54454369 0.51513375\n",
            " 0.5848307  0.55696863 0.55445854 0.6620997  0.65042781 0.67368794\n",
            " 0.64791772 0.61503546 0.63026342 0.67707661 0.69364326 0.6882465\n",
            " 0.79387957 0.7999875  0.83855924 0.84922714 0.84788844 0.84688434\n",
            " 0.86803608 0.84250843 0.86360165 0.86368529 0.90198096 0.9474387\n",
            " 0.95987202 0.87902192 0.90503482 0.85441462 0.87403524 0.85843081\n",
            " 0.83178201 0.85253205 0.85884916 0.85073323 0.844458   0.862447\n",
            " 0.88478678 0.87821873 0.92503192 0.9378752  0.94285362 0.97477365\n",
            " 0.97636329 0.87199748 0.86560601 0.85147083 0.83378869 0.81490034\n",
            " 0.79605794 0.77788889 0.76067483 0.74450767]\n",
            "9 day output [[0.7293732]]\n",
            "10 day input [0.93590899 0.93047045 0.92603602 0.91348555 0.88436843 0.89114567\n",
            " 0.8609409  0.83408293 0.81220327 0.84642422 0.86491522 0.87269654\n",
            " 0.85249028 0.8541218  0.86847118 0.88315526 0.88637653 0.89763007\n",
            " 0.88980697 0.88072882 0.91118463 0.8962495  0.8619449  0.83805724\n",
            " 0.8176418  0.81283079 0.76463703 0.75417831 0.7765181  0.77388248\n",
            " 0.74999482 0.71640139 0.5851654  0.6181313  0.5423683  0.57776065\n",
            " 0.50279251 0.49634993 0.46330038 0.42079615 0.50467508 0.39264125\n",
            " 0.44229929 0.55847473 0.54504569 0.54454369 0.51513375 0.5848307\n",
            " 0.55696863 0.55445854 0.6620997  0.65042781 0.67368794 0.64791772\n",
            " 0.61503546 0.63026342 0.67707661 0.69364326 0.6882465  0.79387957\n",
            " 0.7999875  0.83855924 0.84922714 0.84788844 0.84688434 0.86803608\n",
            " 0.84250843 0.86360165 0.86368529 0.90198096 0.9474387  0.95987202\n",
            " 0.87902192 0.90503482 0.85441462 0.87403524 0.85843081 0.83178201\n",
            " 0.85253205 0.85884916 0.85073323 0.844458   0.862447   0.88478678\n",
            " 0.87821873 0.92503192 0.9378752  0.94285362 0.97477365 0.97636329\n",
            " 0.87199748 0.86560601 0.85147083 0.83378869 0.81490034 0.79605794\n",
            " 0.77788889 0.76067483 0.74450767 0.72937322]\n",
            "10 day output [[0.71520203]]\n",
            "11 day input [0.93047045 0.92603602 0.91348555 0.88436843 0.89114567 0.8609409\n",
            " 0.83408293 0.81220327 0.84642422 0.86491522 0.87269654 0.85249028\n",
            " 0.8541218  0.86847118 0.88315526 0.88637653 0.89763007 0.88980697\n",
            " 0.88072882 0.91118463 0.8962495  0.8619449  0.83805724 0.8176418\n",
            " 0.81283079 0.76463703 0.75417831 0.7765181  0.77388248 0.74999482\n",
            " 0.71640139 0.5851654  0.6181313  0.5423683  0.57776065 0.50279251\n",
            " 0.49634993 0.46330038 0.42079615 0.50467508 0.39264125 0.44229929\n",
            " 0.55847473 0.54504569 0.54454369 0.51513375 0.5848307  0.55696863\n",
            " 0.55445854 0.6620997  0.65042781 0.67368794 0.64791772 0.61503546\n",
            " 0.63026342 0.67707661 0.69364326 0.6882465  0.79387957 0.7999875\n",
            " 0.83855924 0.84922714 0.84788844 0.84688434 0.86803608 0.84250843\n",
            " 0.86360165 0.86368529 0.90198096 0.9474387  0.95987202 0.87902192\n",
            " 0.90503482 0.85441462 0.87403524 0.85843081 0.83178201 0.85253205\n",
            " 0.85884916 0.85073323 0.844458   0.862447   0.88478678 0.87821873\n",
            " 0.92503192 0.9378752  0.94285362 0.97477365 0.97636329 0.87199748\n",
            " 0.86560601 0.85147083 0.83378869 0.81490034 0.79605794 0.77788889\n",
            " 0.76067483 0.74450767 0.72937322 0.71520203]\n",
            "11 day output [[0.7018915]]\n",
            "12 day input [0.92603602 0.91348555 0.88436843 0.89114567 0.8609409  0.83408293\n",
            " 0.81220327 0.84642422 0.86491522 0.87269654 0.85249028 0.8541218\n",
            " 0.86847118 0.88315526 0.88637653 0.89763007 0.88980697 0.88072882\n",
            " 0.91118463 0.8962495  0.8619449  0.83805724 0.8176418  0.81283079\n",
            " 0.76463703 0.75417831 0.7765181  0.77388248 0.74999482 0.71640139\n",
            " 0.5851654  0.6181313  0.5423683  0.57776065 0.50279251 0.49634993\n",
            " 0.46330038 0.42079615 0.50467508 0.39264125 0.44229929 0.55847473\n",
            " 0.54504569 0.54454369 0.51513375 0.5848307  0.55696863 0.55445854\n",
            " 0.6620997  0.65042781 0.67368794 0.64791772 0.61503546 0.63026342\n",
            " 0.67707661 0.69364326 0.6882465  0.79387957 0.7999875  0.83855924\n",
            " 0.84922714 0.84788844 0.84688434 0.86803608 0.84250843 0.86360165\n",
            " 0.86368529 0.90198096 0.9474387  0.95987202 0.87902192 0.90503482\n",
            " 0.85441462 0.87403524 0.85843081 0.83178201 0.85253205 0.85884916\n",
            " 0.85073323 0.844458   0.862447   0.88478678 0.87821873 0.92503192\n",
            " 0.9378752  0.94285362 0.97477365 0.97636329 0.87199748 0.86560601\n",
            " 0.85147083 0.83378869 0.81490034 0.79605794 0.77788889 0.76067483\n",
            " 0.74450767 0.72937322 0.71520203 0.70189148]\n",
            "12 day output [[0.6893259]]\n",
            "13 day input [0.91348555 0.88436843 0.89114567 0.8609409  0.83408293 0.81220327\n",
            " 0.84642422 0.86491522 0.87269654 0.85249028 0.8541218  0.86847118\n",
            " 0.88315526 0.88637653 0.89763007 0.88980697 0.88072882 0.91118463\n",
            " 0.8962495  0.8619449  0.83805724 0.8176418  0.81283079 0.76463703\n",
            " 0.75417831 0.7765181  0.77388248 0.74999482 0.71640139 0.5851654\n",
            " 0.6181313  0.5423683  0.57776065 0.50279251 0.49634993 0.46330038\n",
            " 0.42079615 0.50467508 0.39264125 0.44229929 0.55847473 0.54504569\n",
            " 0.54454369 0.51513375 0.5848307  0.55696863 0.55445854 0.6620997\n",
            " 0.65042781 0.67368794 0.64791772 0.61503546 0.63026342 0.67707661\n",
            " 0.69364326 0.6882465  0.79387957 0.7999875  0.83855924 0.84922714\n",
            " 0.84788844 0.84688434 0.86803608 0.84250843 0.86360165 0.86368529\n",
            " 0.90198096 0.9474387  0.95987202 0.87902192 0.90503482 0.85441462\n",
            " 0.87403524 0.85843081 0.83178201 0.85253205 0.85884916 0.85073323\n",
            " 0.844458   0.862447   0.88478678 0.87821873 0.92503192 0.9378752\n",
            " 0.94285362 0.97477365 0.97636329 0.87199748 0.86560601 0.85147083\n",
            " 0.83378869 0.81490034 0.79605794 0.77788889 0.76067483 0.74450767\n",
            " 0.72937322 0.71520203 0.70189148 0.68932593]\n",
            "13 day output [[0.67738354]]\n",
            "14 day input [0.88436843 0.89114567 0.8609409  0.83408293 0.81220327 0.84642422\n",
            " 0.86491522 0.87269654 0.85249028 0.8541218  0.86847118 0.88315526\n",
            " 0.88637653 0.89763007 0.88980697 0.88072882 0.91118463 0.8962495\n",
            " 0.8619449  0.83805724 0.8176418  0.81283079 0.76463703 0.75417831\n",
            " 0.7765181  0.77388248 0.74999482 0.71640139 0.5851654  0.6181313\n",
            " 0.5423683  0.57776065 0.50279251 0.49634993 0.46330038 0.42079615\n",
            " 0.50467508 0.39264125 0.44229929 0.55847473 0.54504569 0.54454369\n",
            " 0.51513375 0.5848307  0.55696863 0.55445854 0.6620997  0.65042781\n",
            " 0.67368794 0.64791772 0.61503546 0.63026342 0.67707661 0.69364326\n",
            " 0.6882465  0.79387957 0.7999875  0.83855924 0.84922714 0.84788844\n",
            " 0.84688434 0.86803608 0.84250843 0.86360165 0.86368529 0.90198096\n",
            " 0.9474387  0.95987202 0.87902192 0.90503482 0.85441462 0.87403524\n",
            " 0.85843081 0.83178201 0.85253205 0.85884916 0.85073323 0.844458\n",
            " 0.862447   0.88478678 0.87821873 0.92503192 0.9378752  0.94285362\n",
            " 0.97477365 0.97636329 0.87199748 0.86560601 0.85147083 0.83378869\n",
            " 0.81490034 0.79605794 0.77788889 0.76067483 0.74450767 0.72937322\n",
            " 0.71520203 0.70189148 0.68932593 0.67738354]\n",
            "14 day output [[0.66594625]]\n",
            "15 day input [0.89114567 0.8609409  0.83408293 0.81220327 0.84642422 0.86491522\n",
            " 0.87269654 0.85249028 0.8541218  0.86847118 0.88315526 0.88637653\n",
            " 0.89763007 0.88980697 0.88072882 0.91118463 0.8962495  0.8619449\n",
            " 0.83805724 0.8176418  0.81283079 0.76463703 0.75417831 0.7765181\n",
            " 0.77388248 0.74999482 0.71640139 0.5851654  0.6181313  0.5423683\n",
            " 0.57776065 0.50279251 0.49634993 0.46330038 0.42079615 0.50467508\n",
            " 0.39264125 0.44229929 0.55847473 0.54504569 0.54454369 0.51513375\n",
            " 0.5848307  0.55696863 0.55445854 0.6620997  0.65042781 0.67368794\n",
            " 0.64791772 0.61503546 0.63026342 0.67707661 0.69364326 0.6882465\n",
            " 0.79387957 0.7999875  0.83855924 0.84922714 0.84788844 0.84688434\n",
            " 0.86803608 0.84250843 0.86360165 0.86368529 0.90198096 0.9474387\n",
            " 0.95987202 0.87902192 0.90503482 0.85441462 0.87403524 0.85843081\n",
            " 0.83178201 0.85253205 0.85884916 0.85073323 0.844458   0.862447\n",
            " 0.88478678 0.87821873 0.92503192 0.9378752  0.94285362 0.97477365\n",
            " 0.97636329 0.87199748 0.86560601 0.85147083 0.83378869 0.81490034\n",
            " 0.79605794 0.77788889 0.76067483 0.74450767 0.72937322 0.71520203\n",
            " 0.70189148 0.68932593 0.67738354 0.66594625]\n",
            "15 day output [[0.654904]]\n",
            "16 day input [0.8609409  0.83408293 0.81220327 0.84642422 0.86491522 0.87269654\n",
            " 0.85249028 0.8541218  0.86847118 0.88315526 0.88637653 0.89763007\n",
            " 0.88980697 0.88072882 0.91118463 0.8962495  0.8619449  0.83805724\n",
            " 0.8176418  0.81283079 0.76463703 0.75417831 0.7765181  0.77388248\n",
            " 0.74999482 0.71640139 0.5851654  0.6181313  0.5423683  0.57776065\n",
            " 0.50279251 0.49634993 0.46330038 0.42079615 0.50467508 0.39264125\n",
            " 0.44229929 0.55847473 0.54504569 0.54454369 0.51513375 0.5848307\n",
            " 0.55696863 0.55445854 0.6620997  0.65042781 0.67368794 0.64791772\n",
            " 0.61503546 0.63026342 0.67707661 0.69364326 0.6882465  0.79387957\n",
            " 0.7999875  0.83855924 0.84922714 0.84788844 0.84688434 0.86803608\n",
            " 0.84250843 0.86360165 0.86368529 0.90198096 0.9474387  0.95987202\n",
            " 0.87902192 0.90503482 0.85441462 0.87403524 0.85843081 0.83178201\n",
            " 0.85253205 0.85884916 0.85073323 0.844458   0.862447   0.88478678\n",
            " 0.87821873 0.92503192 0.9378752  0.94285362 0.97477365 0.97636329\n",
            " 0.87199748 0.86560601 0.85147083 0.83378869 0.81490034 0.79605794\n",
            " 0.77788889 0.76067483 0.74450767 0.72937322 0.71520203 0.70189148\n",
            " 0.68932593 0.67738354 0.66594625 0.65490401]\n",
            "16 day output [[0.6441584]]\n",
            "17 day input [0.83408293 0.81220327 0.84642422 0.86491522 0.87269654 0.85249028\n",
            " 0.8541218  0.86847118 0.88315526 0.88637653 0.89763007 0.88980697\n",
            " 0.88072882 0.91118463 0.8962495  0.8619449  0.83805724 0.8176418\n",
            " 0.81283079 0.76463703 0.75417831 0.7765181  0.77388248 0.74999482\n",
            " 0.71640139 0.5851654  0.6181313  0.5423683  0.57776065 0.50279251\n",
            " 0.49634993 0.46330038 0.42079615 0.50467508 0.39264125 0.44229929\n",
            " 0.55847473 0.54504569 0.54454369 0.51513375 0.5848307  0.55696863\n",
            " 0.55445854 0.6620997  0.65042781 0.67368794 0.64791772 0.61503546\n",
            " 0.63026342 0.67707661 0.69364326 0.6882465  0.79387957 0.7999875\n",
            " 0.83855924 0.84922714 0.84788844 0.84688434 0.86803608 0.84250843\n",
            " 0.86360165 0.86368529 0.90198096 0.9474387  0.95987202 0.87902192\n",
            " 0.90503482 0.85441462 0.87403524 0.85843081 0.83178201 0.85253205\n",
            " 0.85884916 0.85073323 0.844458   0.862447   0.88478678 0.87821873\n",
            " 0.92503192 0.9378752  0.94285362 0.97477365 0.97636329 0.87199748\n",
            " 0.86560601 0.85147083 0.83378869 0.81490034 0.79605794 0.77788889\n",
            " 0.76067483 0.74450767 0.72937322 0.71520203 0.70189148 0.68932593\n",
            " 0.67738354 0.66594625 0.65490401 0.64415842]\n",
            "17 day output [[0.6336264]]\n",
            "18 day input [0.81220327 0.84642422 0.86491522 0.87269654 0.85249028 0.8541218\n",
            " 0.86847118 0.88315526 0.88637653 0.89763007 0.88980697 0.88072882\n",
            " 0.91118463 0.8962495  0.8619449  0.83805724 0.8176418  0.81283079\n",
            " 0.76463703 0.75417831 0.7765181  0.77388248 0.74999482 0.71640139\n",
            " 0.5851654  0.6181313  0.5423683  0.57776065 0.50279251 0.49634993\n",
            " 0.46330038 0.42079615 0.50467508 0.39264125 0.44229929 0.55847473\n",
            " 0.54504569 0.54454369 0.51513375 0.5848307  0.55696863 0.55445854\n",
            " 0.6620997  0.65042781 0.67368794 0.64791772 0.61503546 0.63026342\n",
            " 0.67707661 0.69364326 0.6882465  0.79387957 0.7999875  0.83855924\n",
            " 0.84922714 0.84788844 0.84688434 0.86803608 0.84250843 0.86360165\n",
            " 0.86368529 0.90198096 0.9474387  0.95987202 0.87902192 0.90503482\n",
            " 0.85441462 0.87403524 0.85843081 0.83178201 0.85253205 0.85884916\n",
            " 0.85073323 0.844458   0.862447   0.88478678 0.87821873 0.92503192\n",
            " 0.9378752  0.94285362 0.97477365 0.97636329 0.87199748 0.86560601\n",
            " 0.85147083 0.83378869 0.81490034 0.79605794 0.77788889 0.76067483\n",
            " 0.74450767 0.72937322 0.71520203 0.70189148 0.68932593 0.67738354\n",
            " 0.66594625 0.65490401 0.64415842 0.6336264 ]\n",
            "18 day output [[0.6232397]]\n",
            "19 day input [0.84642422 0.86491522 0.87269654 0.85249028 0.8541218  0.86847118\n",
            " 0.88315526 0.88637653 0.89763007 0.88980697 0.88072882 0.91118463\n",
            " 0.8962495  0.8619449  0.83805724 0.8176418  0.81283079 0.76463703\n",
            " 0.75417831 0.7765181  0.77388248 0.74999482 0.71640139 0.5851654\n",
            " 0.6181313  0.5423683  0.57776065 0.50279251 0.49634993 0.46330038\n",
            " 0.42079615 0.50467508 0.39264125 0.44229929 0.55847473 0.54504569\n",
            " 0.54454369 0.51513375 0.5848307  0.55696863 0.55445854 0.6620997\n",
            " 0.65042781 0.67368794 0.64791772 0.61503546 0.63026342 0.67707661\n",
            " 0.69364326 0.6882465  0.79387957 0.7999875  0.83855924 0.84922714\n",
            " 0.84788844 0.84688434 0.86803608 0.84250843 0.86360165 0.86368529\n",
            " 0.90198096 0.9474387  0.95987202 0.87902192 0.90503482 0.85441462\n",
            " 0.87403524 0.85843081 0.83178201 0.85253205 0.85884916 0.85073323\n",
            " 0.844458   0.862447   0.88478678 0.87821873 0.92503192 0.9378752\n",
            " 0.94285362 0.97477365 0.97636329 0.87199748 0.86560601 0.85147083\n",
            " 0.83378869 0.81490034 0.79605794 0.77788889 0.76067483 0.74450767\n",
            " 0.72937322 0.71520203 0.70189148 0.68932593 0.67738354 0.66594625\n",
            " 0.65490401 0.64415842 0.6336264  0.6232397 ]\n",
            "19 day output [[0.6129479]]\n",
            "20 day input [0.86491522 0.87269654 0.85249028 0.8541218  0.86847118 0.88315526\n",
            " 0.88637653 0.89763007 0.88980697 0.88072882 0.91118463 0.8962495\n",
            " 0.8619449  0.83805724 0.8176418  0.81283079 0.76463703 0.75417831\n",
            " 0.7765181  0.77388248 0.74999482 0.71640139 0.5851654  0.6181313\n",
            " 0.5423683  0.57776065 0.50279251 0.49634993 0.46330038 0.42079615\n",
            " 0.50467508 0.39264125 0.44229929 0.55847473 0.54504569 0.54454369\n",
            " 0.51513375 0.5848307  0.55696863 0.55445854 0.6620997  0.65042781\n",
            " 0.67368794 0.64791772 0.61503546 0.63026342 0.67707661 0.69364326\n",
            " 0.6882465  0.79387957 0.7999875  0.83855924 0.84922714 0.84788844\n",
            " 0.84688434 0.86803608 0.84250843 0.86360165 0.86368529 0.90198096\n",
            " 0.9474387  0.95987202 0.87902192 0.90503482 0.85441462 0.87403524\n",
            " 0.85843081 0.83178201 0.85253205 0.85884916 0.85073323 0.844458\n",
            " 0.862447   0.88478678 0.87821873 0.92503192 0.9378752  0.94285362\n",
            " 0.97477365 0.97636329 0.87199748 0.86560601 0.85147083 0.83378869\n",
            " 0.81490034 0.79605794 0.77788889 0.76067483 0.74450767 0.72937322\n",
            " 0.71520203 0.70189148 0.68932593 0.67738354 0.66594625 0.65490401\n",
            " 0.64415842 0.6336264  0.6232397  0.61294788]\n",
            "20 day output [[0.6027188]]\n",
            "21 day input [0.87269654 0.85249028 0.8541218  0.86847118 0.88315526 0.88637653\n",
            " 0.89763007 0.88980697 0.88072882 0.91118463 0.8962495  0.8619449\n",
            " 0.83805724 0.8176418  0.81283079 0.76463703 0.75417831 0.7765181\n",
            " 0.77388248 0.74999482 0.71640139 0.5851654  0.6181313  0.5423683\n",
            " 0.57776065 0.50279251 0.49634993 0.46330038 0.42079615 0.50467508\n",
            " 0.39264125 0.44229929 0.55847473 0.54504569 0.54454369 0.51513375\n",
            " 0.5848307  0.55696863 0.55445854 0.6620997  0.65042781 0.67368794\n",
            " 0.64791772 0.61503546 0.63026342 0.67707661 0.69364326 0.6882465\n",
            " 0.79387957 0.7999875  0.83855924 0.84922714 0.84788844 0.84688434\n",
            " 0.86803608 0.84250843 0.86360165 0.86368529 0.90198096 0.9474387\n",
            " 0.95987202 0.87902192 0.90503482 0.85441462 0.87403524 0.85843081\n",
            " 0.83178201 0.85253205 0.85884916 0.85073323 0.844458   0.862447\n",
            " 0.88478678 0.87821873 0.92503192 0.9378752  0.94285362 0.97477365\n",
            " 0.97636329 0.87199748 0.86560601 0.85147083 0.83378869 0.81490034\n",
            " 0.79605794 0.77788889 0.76067483 0.74450767 0.72937322 0.71520203\n",
            " 0.70189148 0.68932593 0.67738354 0.66594625 0.65490401 0.64415842\n",
            " 0.6336264  0.6232397  0.61294788 0.60271877]\n",
            "21 day output [[0.5925388]]\n",
            "22 day input [0.85249028 0.8541218  0.86847118 0.88315526 0.88637653 0.89763007\n",
            " 0.88980697 0.88072882 0.91118463 0.8962495  0.8619449  0.83805724\n",
            " 0.8176418  0.81283079 0.76463703 0.75417831 0.7765181  0.77388248\n",
            " 0.74999482 0.71640139 0.5851654  0.6181313  0.5423683  0.57776065\n",
            " 0.50279251 0.49634993 0.46330038 0.42079615 0.50467508 0.39264125\n",
            " 0.44229929 0.55847473 0.54504569 0.54454369 0.51513375 0.5848307\n",
            " 0.55696863 0.55445854 0.6620997  0.65042781 0.67368794 0.64791772\n",
            " 0.61503546 0.63026342 0.67707661 0.69364326 0.6882465  0.79387957\n",
            " 0.7999875  0.83855924 0.84922714 0.84788844 0.84688434 0.86803608\n",
            " 0.84250843 0.86360165 0.86368529 0.90198096 0.9474387  0.95987202\n",
            " 0.87902192 0.90503482 0.85441462 0.87403524 0.85843081 0.83178201\n",
            " 0.85253205 0.85884916 0.85073323 0.844458   0.862447   0.88478678\n",
            " 0.87821873 0.92503192 0.9378752  0.94285362 0.97477365 0.97636329\n",
            " 0.87199748 0.86560601 0.85147083 0.83378869 0.81490034 0.79605794\n",
            " 0.77788889 0.76067483 0.74450767 0.72937322 0.71520203 0.70189148\n",
            " 0.68932593 0.67738354 0.66594625 0.65490401 0.64415842 0.6336264\n",
            " 0.6232397  0.61294788 0.60271877 0.59253877]\n",
            "22 day output [[0.5824123]]\n",
            "23 day input [0.8541218  0.86847118 0.88315526 0.88637653 0.89763007 0.88980697\n",
            " 0.88072882 0.91118463 0.8962495  0.8619449  0.83805724 0.8176418\n",
            " 0.81283079 0.76463703 0.75417831 0.7765181  0.77388248 0.74999482\n",
            " 0.71640139 0.5851654  0.6181313  0.5423683  0.57776065 0.50279251\n",
            " 0.49634993 0.46330038 0.42079615 0.50467508 0.39264125 0.44229929\n",
            " 0.55847473 0.54504569 0.54454369 0.51513375 0.5848307  0.55696863\n",
            " 0.55445854 0.6620997  0.65042781 0.67368794 0.64791772 0.61503546\n",
            " 0.63026342 0.67707661 0.69364326 0.6882465  0.79387957 0.7999875\n",
            " 0.83855924 0.84922714 0.84788844 0.84688434 0.86803608 0.84250843\n",
            " 0.86360165 0.86368529 0.90198096 0.9474387  0.95987202 0.87902192\n",
            " 0.90503482 0.85441462 0.87403524 0.85843081 0.83178201 0.85253205\n",
            " 0.85884916 0.85073323 0.844458   0.862447   0.88478678 0.87821873\n",
            " 0.92503192 0.9378752  0.94285362 0.97477365 0.97636329 0.87199748\n",
            " 0.86560601 0.85147083 0.83378869 0.81490034 0.79605794 0.77788889\n",
            " 0.76067483 0.74450767 0.72937322 0.71520203 0.70189148 0.68932593\n",
            " 0.67738354 0.66594625 0.65490401 0.64415842 0.6336264  0.6232397\n",
            " 0.61294788 0.60271877 0.59253877 0.5824123 ]\n",
            "23 day output [[0.57236207]]\n",
            "24 day input [0.86847118 0.88315526 0.88637653 0.89763007 0.88980697 0.88072882\n",
            " 0.91118463 0.8962495  0.8619449  0.83805724 0.8176418  0.81283079\n",
            " 0.76463703 0.75417831 0.7765181  0.77388248 0.74999482 0.71640139\n",
            " 0.5851654  0.6181313  0.5423683  0.57776065 0.50279251 0.49634993\n",
            " 0.46330038 0.42079615 0.50467508 0.39264125 0.44229929 0.55847473\n",
            " 0.54504569 0.54454369 0.51513375 0.5848307  0.55696863 0.55445854\n",
            " 0.6620997  0.65042781 0.67368794 0.64791772 0.61503546 0.63026342\n",
            " 0.67707661 0.69364326 0.6882465  0.79387957 0.7999875  0.83855924\n",
            " 0.84922714 0.84788844 0.84688434 0.86803608 0.84250843 0.86360165\n",
            " 0.86368529 0.90198096 0.9474387  0.95987202 0.87902192 0.90503482\n",
            " 0.85441462 0.87403524 0.85843081 0.83178201 0.85253205 0.85884916\n",
            " 0.85073323 0.844458   0.862447   0.88478678 0.87821873 0.92503192\n",
            " 0.9378752  0.94285362 0.97477365 0.97636329 0.87199748 0.86560601\n",
            " 0.85147083 0.83378869 0.81490034 0.79605794 0.77788889 0.76067483\n",
            " 0.74450767 0.72937322 0.71520203 0.70189148 0.68932593 0.67738354\n",
            " 0.66594625 0.65490401 0.64415842 0.6336264  0.6232397  0.61294788\n",
            " 0.60271877 0.59253877 0.5824123  0.57236207]\n",
            "24 day output [[0.5624286]]\n",
            "25 day input [0.88315526 0.88637653 0.89763007 0.88980697 0.88072882 0.91118463\n",
            " 0.8962495  0.8619449  0.83805724 0.8176418  0.81283079 0.76463703\n",
            " 0.75417831 0.7765181  0.77388248 0.74999482 0.71640139 0.5851654\n",
            " 0.6181313  0.5423683  0.57776065 0.50279251 0.49634993 0.46330038\n",
            " 0.42079615 0.50467508 0.39264125 0.44229929 0.55847473 0.54504569\n",
            " 0.54454369 0.51513375 0.5848307  0.55696863 0.55445854 0.6620997\n",
            " 0.65042781 0.67368794 0.64791772 0.61503546 0.63026342 0.67707661\n",
            " 0.69364326 0.6882465  0.79387957 0.7999875  0.83855924 0.84922714\n",
            " 0.84788844 0.84688434 0.86803608 0.84250843 0.86360165 0.86368529\n",
            " 0.90198096 0.9474387  0.95987202 0.87902192 0.90503482 0.85441462\n",
            " 0.87403524 0.85843081 0.83178201 0.85253205 0.85884916 0.85073323\n",
            " 0.844458   0.862447   0.88478678 0.87821873 0.92503192 0.9378752\n",
            " 0.94285362 0.97477365 0.97636329 0.87199748 0.86560601 0.85147083\n",
            " 0.83378869 0.81490034 0.79605794 0.77788889 0.76067483 0.74450767\n",
            " 0.72937322 0.71520203 0.70189148 0.68932593 0.67738354 0.66594625\n",
            " 0.65490401 0.64415842 0.6336264  0.6232397  0.61294788 0.60271877\n",
            " 0.59253877 0.5824123  0.57236207 0.56242859]\n",
            "25 day output [[0.5526678]]\n",
            "26 day input [0.88637653 0.89763007 0.88980697 0.88072882 0.91118463 0.8962495\n",
            " 0.8619449  0.83805724 0.8176418  0.81283079 0.76463703 0.75417831\n",
            " 0.7765181  0.77388248 0.74999482 0.71640139 0.5851654  0.6181313\n",
            " 0.5423683  0.57776065 0.50279251 0.49634993 0.46330038 0.42079615\n",
            " 0.50467508 0.39264125 0.44229929 0.55847473 0.54504569 0.54454369\n",
            " 0.51513375 0.5848307  0.55696863 0.55445854 0.6620997  0.65042781\n",
            " 0.67368794 0.64791772 0.61503546 0.63026342 0.67707661 0.69364326\n",
            " 0.6882465  0.79387957 0.7999875  0.83855924 0.84922714 0.84788844\n",
            " 0.84688434 0.86803608 0.84250843 0.86360165 0.86368529 0.90198096\n",
            " 0.9474387  0.95987202 0.87902192 0.90503482 0.85441462 0.87403524\n",
            " 0.85843081 0.83178201 0.85253205 0.85884916 0.85073323 0.844458\n",
            " 0.862447   0.88478678 0.87821873 0.92503192 0.9378752  0.94285362\n",
            " 0.97477365 0.97636329 0.87199748 0.86560601 0.85147083 0.83378869\n",
            " 0.81490034 0.79605794 0.77788889 0.76067483 0.74450767 0.72937322\n",
            " 0.71520203 0.70189148 0.68932593 0.67738354 0.66594625 0.65490401\n",
            " 0.64415842 0.6336264  0.6232397  0.61294788 0.60271877 0.59253877\n",
            " 0.5824123  0.57236207 0.56242859 0.5526678 ]\n",
            "26 day output [[0.5431493]]\n",
            "27 day input [0.89763007 0.88980697 0.88072882 0.91118463 0.8962495  0.8619449\n",
            " 0.83805724 0.8176418  0.81283079 0.76463703 0.75417831 0.7765181\n",
            " 0.77388248 0.74999482 0.71640139 0.5851654  0.6181313  0.5423683\n",
            " 0.57776065 0.50279251 0.49634993 0.46330038 0.42079615 0.50467508\n",
            " 0.39264125 0.44229929 0.55847473 0.54504569 0.54454369 0.51513375\n",
            " 0.5848307  0.55696863 0.55445854 0.6620997  0.65042781 0.67368794\n",
            " 0.64791772 0.61503546 0.63026342 0.67707661 0.69364326 0.6882465\n",
            " 0.79387957 0.7999875  0.83855924 0.84922714 0.84788844 0.84688434\n",
            " 0.86803608 0.84250843 0.86360165 0.86368529 0.90198096 0.9474387\n",
            " 0.95987202 0.87902192 0.90503482 0.85441462 0.87403524 0.85843081\n",
            " 0.83178201 0.85253205 0.85884916 0.85073323 0.844458   0.862447\n",
            " 0.88478678 0.87821873 0.92503192 0.9378752  0.94285362 0.97477365\n",
            " 0.97636329 0.87199748 0.86560601 0.85147083 0.83378869 0.81490034\n",
            " 0.79605794 0.77788889 0.76067483 0.74450767 0.72937322 0.71520203\n",
            " 0.70189148 0.68932593 0.67738354 0.66594625 0.65490401 0.64415842\n",
            " 0.6336264  0.6232397  0.61294788 0.60271877 0.59253877 0.5824123\n",
            " 0.57236207 0.56242859 0.5526678  0.54314929]\n",
            "27 day output [[0.533952]]\n",
            "28 day input [0.88980697 0.88072882 0.91118463 0.8962495  0.8619449  0.83805724\n",
            " 0.8176418  0.81283079 0.76463703 0.75417831 0.7765181  0.77388248\n",
            " 0.74999482 0.71640139 0.5851654  0.6181313  0.5423683  0.57776065\n",
            " 0.50279251 0.49634993 0.46330038 0.42079615 0.50467508 0.39264125\n",
            " 0.44229929 0.55847473 0.54504569 0.54454369 0.51513375 0.5848307\n",
            " 0.55696863 0.55445854 0.6620997  0.65042781 0.67368794 0.64791772\n",
            " 0.61503546 0.63026342 0.67707661 0.69364326 0.6882465  0.79387957\n",
            " 0.7999875  0.83855924 0.84922714 0.84788844 0.84688434 0.86803608\n",
            " 0.84250843 0.86360165 0.86368529 0.90198096 0.9474387  0.95987202\n",
            " 0.87902192 0.90503482 0.85441462 0.87403524 0.85843081 0.83178201\n",
            " 0.85253205 0.85884916 0.85073323 0.844458   0.862447   0.88478678\n",
            " 0.87821873 0.92503192 0.9378752  0.94285362 0.97477365 0.97636329\n",
            " 0.87199748 0.86560601 0.85147083 0.83378869 0.81490034 0.79605794\n",
            " 0.77788889 0.76067483 0.74450767 0.72937322 0.71520203 0.70189148\n",
            " 0.68932593 0.67738354 0.66594625 0.65490401 0.64415842 0.6336264\n",
            " 0.6232397  0.61294788 0.60271877 0.59253877 0.5824123  0.57236207\n",
            " 0.56242859 0.5526678  0.54314929 0.533952  ]\n",
            "28 day output [[0.5251609]]\n",
            "29 day input [0.88072882 0.91118463 0.8962495  0.8619449  0.83805724 0.8176418\n",
            " 0.81283079 0.76463703 0.75417831 0.7765181  0.77388248 0.74999482\n",
            " 0.71640139 0.5851654  0.6181313  0.5423683  0.57776065 0.50279251\n",
            " 0.49634993 0.46330038 0.42079615 0.50467508 0.39264125 0.44229929\n",
            " 0.55847473 0.54504569 0.54454369 0.51513375 0.5848307  0.55696863\n",
            " 0.55445854 0.6620997  0.65042781 0.67368794 0.64791772 0.61503546\n",
            " 0.63026342 0.67707661 0.69364326 0.6882465  0.79387957 0.7999875\n",
            " 0.83855924 0.84922714 0.84788844 0.84688434 0.86803608 0.84250843\n",
            " 0.86360165 0.86368529 0.90198096 0.9474387  0.95987202 0.87902192\n",
            " 0.90503482 0.85441462 0.87403524 0.85843081 0.83178201 0.85253205\n",
            " 0.85884916 0.85073323 0.844458   0.862447   0.88478678 0.87821873\n",
            " 0.92503192 0.9378752  0.94285362 0.97477365 0.97636329 0.87199748\n",
            " 0.86560601 0.85147083 0.83378869 0.81490034 0.79605794 0.77788889\n",
            " 0.76067483 0.74450767 0.72937322 0.71520203 0.70189148 0.68932593\n",
            " 0.67738354 0.66594625 0.65490401 0.64415842 0.6336264  0.6232397\n",
            " 0.61294788 0.60271877 0.59253877 0.5824123  0.57236207 0.56242859\n",
            " 0.5526678  0.54314929 0.533952   0.52516091]\n",
            "29 day output [[0.5168612]]\n",
            "[[0.8719974756240845], [0.8656060099601746], [0.8514708280563354], [0.8337886929512024], [0.8149003386497498], [0.796057939529419], [0.7778888940811157], [0.7606748342514038], [0.7445076704025269], [0.7293732166290283], [0.7152020335197449], [0.7018914818763733], [0.6893259286880493], [0.677383542060852], [0.6659462451934814], [0.6549040079116821], [0.6441584229469299], [0.633626401424408], [0.6232396960258484], [0.6129478812217712], [0.6027187705039978], [0.5925387740135193], [0.5824123024940491], [0.5723620653152466], [0.5624285936355591], [0.5526677966117859], [0.5431492924690247], [0.533951997756958], [0.5251609086990356], [0.5168612003326416]]\n"
          ]
        }
      ]
    },
    {
      "cell_type": "code",
      "source": [
        "day_new = np.arange(1,101)\n",
        "day_pred = np.arange(101,131)"
      ],
      "metadata": {
        "id": "tMDR1rjuG9pk"
      },
      "execution_count": null,
      "outputs": []
    },
    {
      "cell_type": "code",
      "source": [
        "df3 = df_close.tolist()\n",
        "df3.extend(lst_output)"
      ],
      "metadata": {
        "id": "XLX7-EivHH7H"
      },
      "execution_count": null,
      "outputs": []
    },
    {
      "cell_type": "code",
      "source": [
        "len(df_close)"
      ],
      "metadata": {
        "id": "Z0A4SfJEHIBp",
        "colab": {
          "base_uri": "https://localhost:8080/"
        },
        "outputId": "3108fe39-e75c-46be-91a7-95747335015f"
      },
      "execution_count": null,
      "outputs": [
        {
          "output_type": "execute_result",
          "data": {
            "text/plain": [
              "1228"
            ]
          },
          "metadata": {},
          "execution_count": 73
        }
      ]
    },
    {
      "cell_type": "code",
      "source": [
        "plt.plot(day_new, scaler.inverse_transform(df_close[1128:]))\n",
        "plt.plot(day_pred, scaler.inverse_transform(lst_output))"
      ],
      "metadata": {
        "id": "0fPU94iBHIFI",
        "colab": {
          "base_uri": "https://localhost:8080/",
          "height": 282
        },
        "outputId": "1f175a28-add1-4e83-c9a3-6406766e77da"
      },
      "execution_count": null,
      "outputs": [
        {
          "output_type": "execute_result",
          "data": {
            "text/plain": [
              "[<matplotlib.lines.Line2D at 0x7fd20f467c10>]"
            ]
          },
          "metadata": {},
          "execution_count": 74
        },
        {
          "output_type": "display_data",
          "data": {
            "text/plain": [
              "<Figure size 432x288 with 1 Axes>"
            ],
            "image/png": "[encoded data removed]"
          },
          "metadata": {
            "needs_background": "light"
          }
        }
      ]
    },
    {
      "cell_type": "code",
      "source": [],
      "metadata": {
        "id": "d1qPWK8QHIMD"
      },
      "execution_count": null,
      "outputs": []
    }
  ]
}